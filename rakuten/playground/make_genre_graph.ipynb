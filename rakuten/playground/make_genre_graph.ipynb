{
 "cells": [
  {
   "cell_type": "code",
   "execution_count": 1,
   "metadata": {},
   "outputs": [],
   "source": [
    "import sys\n",
    "import random\n",
    "from collections import defaultdict\n",
    "import os"
   ]
  },
  {
   "cell_type": "code",
   "execution_count": 2,
   "metadata": {},
   "outputs": [],
   "source": [
    "genre_tsv = '/Volumes/datasets/rakuten_dump/merchandize_data/genres/genres_with_english.tsv'\n",
    "out_dir = '~/Desktop/test'\n",
    "\n",
    "id_to_name = {}\n",
    "id_to_pid = {}\n",
    "pid_to_id = defaultdict(list)\n",
    "\n",
    "for l in open(genre_tsv):\n",
    "    l = l.strip()\n",
    "    try:\n",
    "        [id, ja_name, pid, en_name] = l.split('\\t')\n",
    "    except:\n",
    "        continue\n",
    "\n",
    "    id_to_name[id] = ja_name, en_name\n",
    "    id_to_pid[id] = pid\n",
    "    pid_to_id[pid].append(id)\n"
   ]
  },
  {
   "cell_type": "code",
   "execution_count": 3,
   "metadata": {},
   "outputs": [],
   "source": [
    "# root is 0\n",
    "def get_root(id):\n",
    "    while id in id_to_pid:\n",
    "        id = id_to_pid[id]\n",
    "    return id"
   ]
  },
  {
   "cell_type": "code",
   "execution_count": 4,
   "metadata": {},
   "outputs": [],
   "source": [
    "def dfs(path, id):\n",
    "    ja_name, en_name = id_to_name.get(id, ('unk', 'unk'))\n",
    "    dir_name = en_name.replace(\" \", '_') + '|' + ja_name + '|' + id\n",
    "    new_path = os.path.join(path, dir_name)\n",
    "    os.makedirs(new_path)\n",
    "    for child_id in pid_to_id[id]:\n",
    "        dfs(new_path, child_id)\n",
    "        \n"
   ]
  },
  {
   "cell_type": "code",
   "execution_count": 5,
   "metadata": {},
   "outputs": [],
   "source": [
    "dfs('/Users/rpryzant/Desktop/test', '0')"
   ]
  },
  {
   "cell_type": "code",
   "execution_count": 36,
   "metadata": {},
   "outputs": [
    {
     "ename": "KeyError",
     "evalue": "'0'",
     "output_type": "error",
     "traceback": [
      "\u001b[0;31m---------------------------------------------------------------------------\u001b[0m",
      "\u001b[0;31mKeyError\u001b[0m                                  Traceback (most recent call last)",
      "\u001b[0;32m<ipython-input-36-69f1bcb731e1>\u001b[0m in \u001b[0;36m<module>\u001b[0;34m()\u001b[0m\n\u001b[1;32m      1\u001b[0m \u001b[0mget_root\u001b[0m\u001b[0;34m(\u001b[0m\u001b[0;34m'403280'\u001b[0m\u001b[0;34m)\u001b[0m\u001b[0;34m\u001b[0m\u001b[0m\n\u001b[0;32m----> 2\u001b[0;31m \u001b[0mid_to_name\u001b[0m\u001b[0;34m[\u001b[0m\u001b[0;34m'0'\u001b[0m\u001b[0;34m]\u001b[0m\u001b[0;34m\u001b[0m\u001b[0m\n\u001b[0m",
      "\u001b[0;31mKeyError\u001b[0m: '0'"
     ]
    }
   ],
   "source": [
    "get_root('403280')\n",
    "id_to_name['0']"
   ]
  },
  {
   "cell_type": "code",
   "execution_count": 9,
   "metadata": {},
   "outputs": [
    {
     "data": {
      "text/plain": [
       "('\\xe7\\x99\\xbe\\xe8\\xb2\\xa8\\xe5\\xba\\x97\\xe3\\x83\\xbb\\xe7\\xb7\\x8f\\xe5\\x90\\x88\\xe9\\x80\\x9a\\xe8\\xb2\\xa9\\xe3\\x83\\xbb\\xe3\\x82\\xae\\xe3\\x83\\x95\\xe3\\x83\\x88',\n",
       " 'Department store \\xc2\\xb7 Comprehensive mail order \\xc2\\xb7 Gift')"
      ]
     },
     "execution_count": 9,
     "metadata": {},
     "output_type": "execute_result"
    }
   ],
   "source": []
  },
  {
   "cell_type": "code",
   "execution_count": null,
   "metadata": {},
   "outputs": [],
   "source": []
  }
 ],
 "metadata": {
  "kernelspec": {
   "display_name": "Python 2",
   "language": "python",
   "name": "python2"
  },
  "language_info": {
   "codemirror_mode": {
    "name": "ipython",
    "version": 2
   },
   "file_extension": ".py",
   "mimetype": "text/x-python",
   "name": "python",
   "nbconvert_exporter": "python",
   "pygments_lexer": "ipython2",
   "version": "2.7.10"
  }
 },
 "nbformat": 4,
 "nbformat_minor": 2
}
