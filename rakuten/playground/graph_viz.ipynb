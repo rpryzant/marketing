{
 "cells": [
  {
   "cell_type": "code",
   "execution_count": 1,
   "metadata": {},
   "outputs": [],
   "source": [
    "import sys\n",
    "import random\n",
    "from collections import defaultdict\n",
    "import os\n",
    "from tqdm import tqdm\n",
    "\n"
   ]
  },
  {
   "cell_type": "code",
   "execution_count": 2,
   "metadata": {},
   "outputs": [],
   "source": [
    "products_tsv = '/Users/rpryzant/Documents/rakuten_data/clothing_products.tok'\n",
    "genre_tsv = '/Users/rpryzant/Documents/rakuten_data/genres_with_english.tsv' \n",
    "out_dir = '~/Desktop/test'"
   ]
  },
  {
   "cell_type": "code",
   "execution_count": 3,
   "metadata": {},
   "outputs": [
    {
     "name": "stdout",
     "output_type": "stream",
     "text": [
      "BUILDING GRAPH...\n"
     ]
    }
   ],
   "source": [
    "# get genre graph\n",
    "print 'BUILDING GRAPH...'\n",
    "id_to_name = {}\n",
    "id_to_pid = {}\n",
    "pid_to_id = defaultdict(list)\n",
    "for l in open(genre_tsv):\n",
    "    l = l.strip()\n",
    "    try:\n",
    "        [id, ja_name, pid, en_name] = l.split('\\t')\n",
    "    except:\n",
    "        continue\n",
    "\n",
    "    id_to_name[id] = ja_name, en_name\n",
    "    id_to_pid[id] = pid\n",
    "    pid_to_id[pid].append(id)\n",
    "\n"
   ]
  },
  {
   "cell_type": "code",
   "execution_count": 4,
   "metadata": {},
   "outputs": [
    {
     "name": "stderr",
     "output_type": "stream",
     "text": [
      "  0%|          | 12016/20000000 [00:00<02:46, 120118.02it/s]"
     ]
    },
    {
     "name": "stdout",
     "output_type": "stream",
     "text": [
      "PARSING DATA AND SUBSETTING GRAPH...\n"
     ]
    },
    {
     "name": "stderr",
     "output_type": "stream",
     "text": [
      " 99%|█████████▉| 19899882/20000000 [01:51<00:00, 178088.62it/s]\n"
     ]
    }
   ],
   "source": [
    "# get counts\n",
    "print 'PARSING DATA AND SUBSETTING GRAPH...'\n",
    "id_to_count = defaultdict(int)\n",
    "graph_gids = set()\n",
    "for l in tqdm(open(products_tsv), total=20000000):\n",
    "    genre_id = l.strip().split('\\t')[-1]\n",
    "    id_to_count[genre_id] += 1\n",
    "\n",
    "    while genre_id in id_to_pid:\n",
    "        graph_gids.add(genre_id)\n",
    "        genre_id = id_to_pid[genre_id]\n",
    "    graph_gids.add(genre_id)\n",
    "\n",
    "\n"
   ]
  },
  {
   "cell_type": "code",
   "execution_count": 22,
   "metadata": {},
   "outputs": [
    {
     "name": "stderr",
     "output_type": "stream",
     "text": [
      "100%|██████████| 9779/9779 [00:00<00:00, 196708.58it/s]"
     ]
    },
    {
     "name": "stdout",
     "output_type": "stream",
     "text": [
      "GETTING FINAL COUNTS...\n"
     ]
    },
    {
     "name": "stderr",
     "output_type": "stream",
     "text": [
      "\n"
     ]
    }
   ],
   "source": [
    "print 'GETTING FINAL COUNTS...'\n",
    "final_counts = defaultdict(int)\n",
    "\n",
    "def aggregate_counts(id):\n",
    "    # total count of all descriptions for a genre\n",
    "    out = id_to_count[id]\n",
    "    for cid in pid_to_id[id]:\n",
    "        if cid in final_counts:\n",
    "            out += final_counts[cid]\n",
    "        else:\n",
    "            out += aggregate_counts(cid[:])\n",
    "    return out\n",
    "\n",
    "for gid in tqdm(graph_gids):\n",
    "    final_counts[gid] = aggregate_counts(gid)"
   ]
  },
  {
   "cell_type": "code",
   "execution_count": 23,
   "metadata": {},
   "outputs": [
    {
     "name": "stdout",
     "output_type": "stream",
     "text": [
      "WRITING GRAPH...\n"
     ]
    }
   ],
   "source": [
    "\n",
    "def dfs(path, id):\n",
    "    if id not in graph_gids:\n",
    "        return\n",
    "    ja_name, en_name = id_to_name.get(id, ('unk', 'unk'))\n",
    "    count = final_counts[id]\n",
    "    dir_name = en_name.replace(\" \", '_') + '|' + ja_name + '|' + id + '|' + str(count)\n",
    "    new_path = os.path.join(path, dir_name)\n",
    "    os.makedirs(new_path)\n",
    "    for child_id in pid_to_id[id]:\n",
    "        dfs(new_path, child_id)\n",
    "        \n",
    "print 'WRITING GRAPH...'\n",
    "dfs('/Users/rpryzant/Desktop/test', '0')"
   ]
  },
  {
   "cell_type": "code",
   "execution_count": null,
   "metadata": {},
   "outputs": [],
   "source": []
  }
 ],
 "metadata": {
  "kernelspec": {
   "display_name": "Python 2",
   "language": "python",
   "name": "python2"
  },
  "language_info": {
   "codemirror_mode": {
    "name": "ipython",
    "version": 2
   },
   "file_extension": ".py",
   "mimetype": "text/x-python",
   "name": "python",
   "nbconvert_exporter": "python",
   "pygments_lexer": "ipython2",
   "version": "2.7.10"
  }
 },
 "nbformat": 4,
 "nbformat_minor": 2
}
